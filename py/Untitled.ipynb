{
 "cells": [
  {
   "cell_type": "code",
   "execution_count": null,
   "metadata": {},
   "outputs": [],
   "source": [
    "# Example Plot\n",
    "%matplotlib inline\n",
    "import numpy as np\n",
    "import matplotlib.pyplot as plt\n",
    " \n",
    "# 乱数を生成\n",
    "x = np.random.rand(100)\n",
    "y = np.random.rand(100)\n",
    " \n",
    "# 散布図を描画\n",
    "plt.scatter(x, y)"
   ]
  },
  {
   "cell_type": "code",
   "execution_count": 7,
   "metadata": {},
   "outputs": [],
   "source": [
    "import random\n",
    "# パラメータ\n",
    "alpha = 0.5\n",
    "la = 12\n",
    "lr = 0.01\n",
    "\n",
    "# 社会余剰\n",
    "# expected colective welfare -> maximize\n",
    "def ecw(p):\n",
    "    return (1 - alpha) * (1 + lr) * p + alpha * (1 + la) * p\n",
    "\n",
    "def agg_p(x,y,z):\n",
    "    return x*y + y*z + z*x - 2*x*y*z\n",
    "\n",
    "def weight(t,x,y,z):\n",
    "    return t / (x+y+z)\n",
    "\n",
    "# ジニ係数の計算方法\n",
    "def gini(validators):\n",
    "    validator_size = len(validators)\n",
    "    if validator_size == 1: return 1 \n",
    "    validators.sort()\n",
    "    validator_sum = sum(validators)\n",
    "    validators = [ x / validator_sum for x in validators ]\n",
    "    cumulative_scores = [ sum(validators[0:i+1]) for i in range(validator_size) ]\n",
    "    res = cumulative_scores[0] / validator_size / 2\n",
    "    print(cumulative_scores)\n",
    "    for i in range(1,validator_size):\n",
    "        res += (cumulative_scores[i-1] + cumulative_scores[i]) / validator_size / 2\n",
    "    return 1 - res*2"
   ]
  },
  {
   "cell_type": "code",
   "execution_count": 10,
   "metadata": {},
   "outputs": [
    {
     "name": "stdout",
     "output_type": "stream",
     "text": [
      "[0.044444444444444446, 0.1111111111111111, 0.2, 0.3111111111111111, 0.4222222222222222, 0.5555555555555556, 0.6888888888888889, 0.8444444444444444, 1.0]\n"
     ]
    },
    {
     "data": {
      "text/plain": [
       "5.51994"
      ]
     },
     "execution_count": 10,
     "metadata": {},
     "output_type": "execute_result"
    }
   ],
   "source": [
    "gini([0.5,0.6,0.7,0.2,0.3,0.4,0.5,0.6,0.7])\n",
    "ecw(agg_p(0.6, 0.7, 0.8))"
   ]
  },
  {
   "cell_type": "code",
   "execution_count": 15,
   "metadata": {},
   "outputs": [
    {
     "data": {
      "text/plain": [
       "[['A', 'E'],\n",
       " ['E'],\n",
       " ['A', 'A', 'C', 'E', 'E'],\n",
       " ['B'],\n",
       " ['B', 'F', 'F'],\n",
       " ['B', 'C', 'C'],\n",
       " ['B', 'C', 'D', 'D', 'D', 'E', 'F'],\n",
       " ['A', 'C'],\n",
       " ['D', 'F'],\n",
       " ['A', 'B', 'D', 'F']]"
      ]
     },
     "execution_count": 15,
     "metadata": {},
     "output_type": "execute_result"
    }
   ],
   "source": [
    "import itertools\n",
    "\n",
    "vs = [\"A\", \"B\", \"C\", \"D\", \"E\",\"F\"]\n",
    "\n",
    "count1 = [5,5,5,5,5,5]\n",
    "count2 = [6,5,5,5,5,4]\n",
    "count3 = [6,6,5,5,4,4]\n",
    "count4 = [6,6,6,4,4,4]\n",
    "\n",
    "rest_count = [3,3,3,3,3,3,3,3,3,3]\n",
    "\n",
    "committees = [ [] for _ in range(10) ]\n",
    "for i in range(6):\n",
    "    for j in range(count1[i]):\n",
    "        rand_int = random.randint(0,9)\n",
    "        \n",
    "        committees[rand_int].append(vs[i])\n",
    "committees\n",
    "    \n",
    "    \n",
    "\n",
    "# [ [] for _ in range(10) ]"
   ]
  },
  {
   "cell_type": "code",
   "execution_count": 52,
   "metadata": {},
   "outputs": [
    {
     "data": {
      "text/plain": [
       "1"
      ]
     },
     "execution_count": 52,
     "metadata": {},
     "output_type": "execute_result"
    }
   ],
   "source": []
  }
 ],
 "metadata": {
  "kernelspec": {
   "display_name": "Python 3",
   "language": "python",
   "name": "python3"
  },
  "language_info": {
   "codemirror_mode": {
    "name": "ipython",
    "version": 3
   },
   "file_extension": ".py",
   "mimetype": "text/x-python",
   "name": "python",
   "nbconvert_exporter": "python",
   "pygments_lexer": "ipython3",
   "version": "3.7.2"
  }
 },
 "nbformat": 4,
 "nbformat_minor": 2
}
