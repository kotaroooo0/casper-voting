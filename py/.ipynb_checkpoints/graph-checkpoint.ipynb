{
 "cells": [
  {
   "cell_type": "markdown",
   "metadata": {},
   "source": [
    "### 非中央集権性と検証精度の関係についてのグラフ"
   ]
  },
  {
   "cell_type": "code",
   "execution_count": 1,
   "metadata": {},
   "outputs": [],
   "source": [
    "import random\n",
    "# パラメータ\n",
    "alpha = 0.5\n",
    "la = 12\n",
    "lr = 0.01\n",
    "\n",
    "# 社会余剰\n",
    "# expected colective welfare -> maximize\n",
    "def ecw(p):\n",
    "    return (1 - alpha) * (1 + lr) * p + alpha * (1 + la) * p\n",
    "\n",
    "def agg_p(x,y,z):\n",
    "    return x*y + y*z + z*x - 2*x*y*z\n",
    "\n",
    "def weight(t,x,y,z):\n",
    "    return t / (x+y+z)\n",
    "\n",
    "# ジニ係数の計算方法\n",
    "def gini(validators):\n",
    "    validator_size = len(validators)\n",
    "    if validator_size == 1: return 1 \n",
    "    validators.sort()\n",
    "    validator_sum = sum(validators)\n",
    "    validators = [ x / validator_sum for x in validators ]\n",
    "    cumulative_scores = [ sum(validators[0:i+1]) for i in range(validator_size) ]\n",
    "    res = cumulative_scores[0] / validator_size / 2\n",
    "    for i in range(1,validator_size):\n",
    "        res += (cumulative_scores[i-1] + cumulative_scores[i]) / validator_size / 2\n",
    "    return 1 - res*2"
   ]
  },
  {
   "cell_type": "code",
   "execution_count": 5,
   "metadata": {},
   "outputs": [
    {
     "data": {
      "text/plain": [
       "<matplotlib.collections.PathCollection at 0x11c132a90>"
      ]
     },
     "execution_count": 5,
     "metadata": {},
     "output_type": "execute_result"
    },
    {
     "data": {
      "image/png": "[encoded data removed]",
      "text/plain": [
       "<Figure size 432x288 with 1 Axes>"
      ]
     },
     "metadata": {
      "needs_background": "light"
     },
     "output_type": "display_data"
    }
   ],
   "source": [
    "# Example Plot\n",
    "%matplotlib inline\n",
    "import numpy as np\n",
    "import matplotlib.pyplot as plt\n",
    " \n",
    "# 乱数を生成\n",
    "x = np.random.rand(100)\n",
    "y = np.random.rand(100)\n",
    " \n",
    "# 散布図を描画\n",
    "plt.scatter(x, y)"
   ]
  },
  {
   "cell_type": "code",
   "execution_count": 11,
   "metadata": {},
   "outputs": [
    {
     "name": "stdout",
     "output_type": "stream",
     "text": [
      "('A', 'B', 'C')\n",
      "('A', 'B', 'D')\n",
      "('A', 'B', 'E')\n",
      "('A', 'B', 'F')\n",
      "('A', 'C', 'D')\n",
      "('A', 'C', 'E')\n",
      "('A', 'C', 'F')\n",
      "('A', 'D', 'E')\n",
      "('A', 'D', 'F')\n",
      "('A', 'E', 'F')\n",
      "('B', 'C', 'D')\n",
      "('B', 'C', 'E')\n",
      "('B', 'C', 'F')\n",
      "('B', 'D', 'E')\n",
      "('B', 'D', 'F')\n",
      "('B', 'E', 'F')\n",
      "('C', 'D', 'E')\n",
      "('C', 'D', 'F')\n",
      "('C', 'E', 'F')\n",
      "('D', 'E', 'F')\n",
      "{'A': 0, 'B': 0, 'C': 0, 'D': 0, 'E': 0, 'F': 0}\n"
     ]
    }
   ],
   "source": [
    "import itertools\n",
    "\n",
    "vs = [\"A\", \"B\", \"C\", \"D\", \"E\", \"F\"]\n",
    "\n",
    "committees = itertools.combinations(vs, 3)\n",
    "\n",
    "for c in committees:\n",
    "    print(c)\n",
    "\n",
    "count = dict(zip(vs,[0]*len(vs)))\n",
    "\n",
    "print(count)\n",
    "\n",
    "all_groups = []\n",
    "\n",
    "def increment_count(validators, selected_count):\n",
    "    for v in Validators:\n",
    "        selected_count[v] += 1\n",
    "    return selected_count\n",
    "        \n",
    "def dfs(rest_count, added_validators, groups, selected_count):\n",
    "    rest_count -= 1\n",
    "    groups.append(added_validators)\n",
    "    selected_count = increment_count(selected_count)\n",
    "    max_count = max(selected_count.values())\n",
    "    min_count = min(selected_count.values())\n",
    "    \n",
    "    if (max_count > 6):　return\n",
    "    if (max_count - min_count - rest_count > 2):　return\n",
    "    \n",
    "    if (rest_count == 0):\n",
    "        if(max_count - min_count > 2):\n",
    "            return\n",
    "        all_groups.append(groups)\n",
    "        return\n",
    "    else:\n",
    "        \n",
    "    \n",
    "        \n",
    "        \n",
    "        "
   ]
  },
  {
   "cell_type": "code",
   "execution_count": null,
   "metadata": {},
   "outputs": [],
   "source": []
  }
 ],
 "metadata": {
  "kernelspec": {
   "display_name": "Python 3",
   "language": "python",
   "name": "python3"
  },
  "language_info": {
   "codemirror_mode": {
    "name": "ipython",
    "version": 3
   },
   "file_extension": ".py",
   "mimetype": "text/x-python",
   "name": "python",
   "nbconvert_exporter": "python",
   "pygments_lexer": "ipython3",
   "version": "3.7.2"
  }
 },
 "nbformat": 4,
 "nbformat_minor": 2
}
