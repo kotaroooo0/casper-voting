{
 "cells": [
  {
   "cell_type": "markdown",
   "metadata": {},
   "source": [
    "### 非中央集権性と検証精度の関係についてのグラフ"
   ]
  },
  {
   "cell_type": "code",
   "execution_count": null,
   "metadata": {},
   "outputs": [],
   "source": [
    "import random\n",
    "# パラメータ\n",
    "alpha = 0.5\n",
    "la = 12\n",
    "lr = 0.01\n",
    "\n",
    "# 社会余剰\n",
    "# expected colective welfare -> maximize\n",
    "def ecw(p):\n",
    "    return (1 - alpha) * (1 + lr) * p + alpha * (1 + la) * p\n",
    "\n",
    "def agg_p(x,y,z):\n",
    "    return x*y + y*z + z*x - 2*x*y*z\n",
    "\n",
    "def weight(t,x,y,z):\n",
    "    return t / (x+y+z)\n",
    "\n",
    "# ジニ係数の計算方法\n",
    "def gini(validators):\n",
    "    validator_size = len(validators)\n",
    "    if validator_size == 1: return 1 \n",
    "    validators.sort()\n",
    "    validator_sum = sum(validators)\n",
    "    validators = [ x / validator_sum for x in validators ]\n",
    "    cumulative_scores = [ sum(validators[0:i+1]) for i in range(validator_size) ]\n",
    "    res = cumulative_scores[0] / validator_size / 2\n",
    "    for i in range(1,validator_size):\n",
    "        res += (cumulative_scores[i-1] + cumulative_scores[i]) / validator_size / 2\n",
    "    return 1 - res*2"
   ]
  },
  {
   "cell_type": "code",
   "execution_count": null,
   "metadata": {},
   "outputs": [],
   "source": [
    "# Example Plot\n",
    "%matplotlib inline\n",
    "import numpy as np\n",
    "import matplotlib.pyplot as plt\n",
    " \n",
    "# 乱数を生成\n",
    "x = np.random.rand(100)\n",
    "y = np.random.rand(100)\n",
    " \n",
    "# 散布図を描画\n",
    "plt.scatter(x, y)"
   ]
  },
  {
   "cell_type": "code",
   "execution_count": null,
   "metadata": {},
   "outputs": [],
   "source": [
    "import itertools\n",
    "\n",
    "vs = [\"A\", \"B\", \"C\", \"D\", \"E\",\"F\"]\n",
    "\n",
    "committees = list(itertools.combinations(vs, 3))\n",
    "\n",
    "count = dict(zip(vs,[0]*len(vs)))\n",
    "\n",
    "print(count)\n",
    "\n",
    "all_groups = []\n",
    "\n",
    "def increment_count(validators, selected_count):\n",
    "    for v in validators:\n",
    "        selected_count[v] += 1\n",
    "    return selected_count\n",
    "        \n",
    "def dfs(rest_count, added_validators, groups, selected_count):\n",
    "#     print(\"AA\")\n",
    "#     print(rest_count)\n",
    "#     print(added_validators)\n",
    "#     print(groups)\n",
    "    rest_count -= 1\n",
    "    groups.append(added_validators)\n",
    "    selected_count = increment_count(added_validators, selected_count)\n",
    "\n",
    "    max_count = max(selected_count.values())\n",
    "    min_count = min(selected_count.values())\n",
    "    if (max_count > 6):\n",
    "#         print(\"BB\")\n",
    "        return\n",
    "    if (max_count - min_count - rest_count > 2):\n",
    "#         print(\"CC\")\n",
    "        return\n",
    "    \n",
    "    if (rest_count == 0):\n",
    "#         if(max_count - min_count > 2):\n",
    "#             print(\"DD\")\n",
    "#             return\n",
    "        all_groups.append(groups)\n",
    "#         print(selected_count)\n",
    "#         print(\"EE\")\n",
    "        return\n",
    "    else:\n",
    "        for c in committees:\n",
    "#             print(\"FF\")\n",
    "            dfs(rest_count, c, list(groups), selected_count.copy())\n",
    "            \n",
    "for c in committees:\n",
    "#     print(c)\n",
    "    dfs(3, c, [], count.copy())\n",
    "all_groups\n",
    "        "
   ]
  },
  {
   "cell_type": "code",
   "execution_count": 3,
   "metadata": {},
   "outputs": [
    {
     "data": {
      "text/plain": [
       "4020"
      ]
     },
     "execution_count": 3,
     "metadata": {},
     "output_type": "execute_result"
    }
   ],
   "source": [
    "len(all_groups)"
   ]
  }
 ],
 "metadata": {
  "kernelspec": {
   "display_name": "Python 3",
   "language": "python",
   "name": "python3"
  },
  "language_info": {
   "codemirror_mode": {
    "name": "ipython",
    "version": 3
   },
   "file_extension": ".py",
   "mimetype": "text/x-python",
   "name": "python",
   "nbconvert_exporter": "python",
   "pygments_lexer": "ipython3",
   "version": "3.7.2"
  }
 },
 "nbformat": 4,
 "nbformat_minor": 2
}
